{
 "cells": [
  {
   "cell_type": "markdown",
   "metadata": {},
   "source": [
    "# 1) Import libraries and define global variables"
   ]
  },
  {
   "cell_type": "code",
   "execution_count": 25,
   "metadata": {},
   "outputs": [],
   "source": [
    "import numpy as np\n",
    "from tqdm import tqdm\n",
    "import itertools\n",
    "import plotly.graph_objects as go\n",
    "import plotly.express as px\n",
    "\n",
    "\n",
    "\n",
    "WORKERS_NB = 20 #number of workers\n",
    "K_MIN = 10 #Minimum routes that can be created to pick up trash. K_MAX is actually WORKERS_NB\n",
    "\n",
    "STREETS_NB = 100 #number of streets in the city with potential trash to collect\n",
    "CLEAN_MAX = 70 #maximum streets that needs to be cleaned each week\n",
    "CLEAN_MIN = 50 #minimum streets that needs to be cleaned each week\n",
    "\n",
    "NB_WEEKS_SIM = 15 #number of weeks to simulate for the records\n",
    "\n",
    "NB_WEEKS_AFTER = 15 #number of weeks to simulate after the records (for part 5)\n",
    "\n",
    "GAMMA = 0.9 #discount factor -> how much we value the past"
   ]
  },
  {
   "cell_type": "markdown",
   "metadata": {},
   "source": [
    "# 2) Functions to generate streets to clean, possible routes and matches with workers"
   ]
  },
  {
   "cell_type": "code",
   "execution_count": 26,
   "metadata": {},
   "outputs": [
    {
     "name": "stdout",
     "output_type": "stream",
     "text": [
      "TEST generated routes <--> workers matched :\n",
      "\n",
      "[87, 9, 25, 92] (distance of 136.5) <--> 7\n",
      "[37, 2, 91] (distance of 86.49) <--> 13\n",
      "[26, 13] (distance of 48.4) <--> 3\n",
      "[51, 16] (distance of 48.71) <--> 18\n",
      "[38, 30, 73] (distance of 100.27) <--> 11\n",
      "[85, 63, 29, 78] (distance of 183.43) <--> 19\n",
      "[21, 65] (distance of 78.96) <--> 12\n",
      "[75, 89] (distance of 58.56) <--> 2\n",
      "[66, 39, 56, 3] (distance of 161.05) <--> 10\n",
      "[82, 46, 64] (distance of 102.93) <--> 6\n",
      "[96, 10, 88] (distance of 100.21) <--> 16\n",
      "[15, 84, 99, 53, 74] (distance of 156.29) <--> 1\n",
      "[32, 67, 36, 61, 58, 7, 28, 20] (distance of 235.75) <--> 0\n",
      "[40] (distance of 0) <--> 15\n",
      "[6, 59, 18] (distance of 101.37) <--> 8\n",
      "[77, 97] (distance of 72.57) <--> 5\n",
      "[22, 72, 8] (distance of 92.62) <--> 4\n",
      "\n",
      "Maintenance workers : [ 9 14 17]\n"
     ]
    }
   ],
   "source": [
    "def generate_streets():\n",
    "    \"\"\"\n",
    "    Generate a random matrix of format STREETS_NB x 2 that contains the coordinates of the streets. The coordinates are floats between 0 and 100\n",
    "    \"\"\"\n",
    "    city_map = np.random.rand(STREETS_NB, 2)*100\n",
    "\n",
    "    #For each streets, calculate the distance to all other streets\n",
    "    distances = np.zeros((STREETS_NB, STREETS_NB))\n",
    "\n",
    "    for i in range(STREETS_NB):\n",
    "        for j in range(STREETS_NB):\n",
    "            if i != j:\n",
    "                distances[i, j] = np.linalg.norm(city_map[i] - city_map[j])\n",
    "\n",
    "\n",
    "    return city_map, distances\n",
    "\n",
    "\n",
    "\n",
    "def generate_streets_to_clean():\n",
    "    \"\"\"\n",
    "    Generate a random array of 0s and 1s of size STREETS_NB, where 1s represent the streets that need to be cleaned\n",
    "    \"\"\"\n",
    "    n = np.random.randint(CLEAN_MIN, CLEAN_MAX + 1) #number of streets to clean\n",
    "\n",
    "    streets = np.zeros(STREETS_NB)\n",
    "    streets[:n] = 1 #Set the first n streets to 1, meaning they need to be cleaned\n",
    "    np.random.shuffle(streets) #Shuffle the array to randomize the streets that need to be cleaned\n",
    "\n",
    "    return streets\n",
    "\n",
    "\n",
    "def generate_routes(streets, distances) :\n",
    "    \"\"\"\n",
    "    Generate the routes for the workers to clean the streets. The routes are generated using a probabilistic approach, where the distance between the streets is used as a weight to assign the streets to the workers\n",
    "    \"\"\"\n",
    "\n",
    "    workers_needed = np.random.randint(K_MIN, WORKERS_NB + 1) #number of workers needed to clean the streets\n",
    "    routes = [[] for _ in range(workers_needed)] #List of routes for each worker\n",
    "\n",
    "    #Get the index of the streets that need to be cleaned\n",
    "    streets_to_clean = np.where(streets == 1)[0]\n",
    "    np.random.shuffle(streets_to_clean)\n",
    "\n",
    "\n",
    "    for i in range(len(streets_to_clean)):\n",
    "\n",
    "        if i < workers_needed : #First, assign a street to each route so that each route has at least one street to clean\n",
    "            routes[i].append(streets_to_clean[i])\n",
    "\n",
    "        else : #For each route, take the distance to the closest routes and use it as a proba weight to assign the street to the route\n",
    "            \n",
    "            distance_vector = distances[streets_to_clean[i], :]\n",
    "            proba_weight = [np.inf]*workers_needed\n",
    "\n",
    "            for j in range(workers_needed):\n",
    "                \n",
    "                for k in routes[j]:\n",
    "                    if distance_vector[k] < proba_weight[j]:\n",
    "                        proba_weight[j] = distance_vector[k]\n",
    "\n",
    "            \n",
    "            proba_weight = np.array(proba_weight)\n",
    "            #Normalize between 0 and 1\n",
    "            proba_weight = proba_weight / np.sum(proba_weight)\n",
    "\n",
    "            #Probabilistic assignment\n",
    "            route_index = np.random.choice(range(workers_needed), p=proba_weight)\n",
    "            routes[route_index].append(streets_to_clean[i])\n",
    "\n",
    "    #Reorder the routes : use the Travelling salesman problem heuristic : nearest neighbor\n",
    "    new_routes = []\n",
    "    distances_travel = []\n",
    "    for route in routes:\n",
    "        new_route = []\n",
    "        distance_traveled = 0\n",
    "        for i in range(len(route)):\n",
    "            if i == 0:\n",
    "                new_route.append(route[0])\n",
    "                route = np.delete(route, 0)\n",
    "            else:\n",
    "                distance_vector = distances[new_route[-1], route]\n",
    "                next_street = np.argmin(distance_vector)\n",
    "                new_route.append(route[next_street])\n",
    "                route = np.delete(route, next_street)\n",
    "\n",
    "                distance_traveled += distance_vector[next_street]\n",
    "\n",
    "        new_routes.append(new_route)\n",
    "        distances_travel.append(distance_traveled)\n",
    "\n",
    "    return new_routes, distances_travel\n",
    "\n",
    "\n",
    "def generate_match_workers(routes) :\n",
    "    \"\"\"\n",
    "    \"\"\"\n",
    "    workers_match = [-1]*WORKERS_NB #-1 means that the worker is not matched with a route (they don't drive, stay at maintenance)\n",
    "    workers_match[:len(routes)] = range(len(routes)) #The first workers are matched with a route\n",
    "    np.random.shuffle(workers_match) #Shuffle the array to randomize the workers that are matched with a route\n",
    "\n",
    "    routes_match = [0]*len(routes) #The number of workers matched with each route (reverse function of workers_match)\n",
    "    for k in range(len(workers_match)):\n",
    "        if workers_match[k] != -1:\n",
    "            routes_match[workers_match[k]] += k\n",
    "    \n",
    "    return np.array(workers_match), np.array(routes_match )\n",
    "        \n",
    "\n",
    "street_map, distances = generate_streets()\n",
    "streets_to_clean = generate_streets_to_clean()\n",
    "generated_routes, distances_travel = generate_routes(streets_to_clean, distances)\n",
    "workers_match, routes_match = generate_match_workers(generated_routes)\n",
    "\n",
    "\n",
    "#### TEST PRINT ######\n",
    "print(\"TEST generated routes <--> workers matched :\\n\")\n",
    "for i, route in enumerate(generated_routes) : \n",
    "    print(f\"{route} (distance of {round(distances_travel[i],2)}) <--> {routes_match[i]}\")\n",
    "\n",
    "#Get the index of workers_match that are equals to -1\n",
    "maintenance_workers = np.where(np.array(workers_match) == -1)[0]\n",
    "print(f\"\\nMaintenance workers : {maintenance_workers}\")\n",
    "\n"
   ]
  },
  {
   "cell_type": "markdown",
   "metadata": {},
   "source": [
    "# 3) Creation of route-assignment records"
   ]
  },
  {
   "cell_type": "markdown",
   "metadata": {},
   "source": [
    "### Create the city"
   ]
  },
  {
   "cell_type": "code",
   "execution_count": 27,
   "metadata": {},
   "outputs": [],
   "source": [
    "street_map, distances = generate_streets()"
   ]
  },
  {
   "cell_type": "markdown",
   "metadata": {},
   "source": [
    "### Simulate `NB_WEEKS_SIM` weeks"
   ]
  },
  {
   "cell_type": "code",
   "execution_count": 28,
   "metadata": {},
   "outputs": [
    {
     "name": "stderr",
     "output_type": "stream",
     "text": [
      "Simulating weeks...: 100%|██████████| 15/15 [00:00<00:00, 908.82it/s]\n",
      "Retrieving information...: 100%|██████████| 15/15 [00:00<00:00, 117159.33it/s]"
     ]
    },
    {
     "name": "stdout",
     "output_type": "stream",
     "text": [
      "\n",
      "\n",
      "INFO :\n",
      "Worker 0 : {'driving_index': 5.23294131505816, 'total_distance': 1546.8764676050564, 'visited_streets': {3: [79, 92, 94, 67, 97, 36], 2: [36, 13, 56, 69, 88, 10, 28], 1: [55, 53, 31, 9]}}\n",
      "Worker 1 : {'driving_index': 6.4771297856671595, 'total_distance': 1831.2618277594127, 'visited_streets': {3: [18, 44, 81, 47, 7, 3], 2: [74, 39, 57, 98, 17, 21], 1: [83, 15, 75, 14]}}\n",
      "Worker 2 : {'driving_index': 5.55810391001755, 'total_distance': 1509.375544132276, 'visited_streets': {2: [30, 68, 49, 91], 1: [43, 81]}}\n",
      "Worker 5 : {'driving_index': 5.44422418759855, 'total_distance': 1536.1364953336622, 'visited_streets': {3: [98, 40, 6, 56, 57, 68, 49, 62], 2: [97, 58, 72, 46, 1, 90], 1: [68, 39, 86]}}\n",
      "Worker 6 : {'driving_index': 5.70159958183426, 'total_distance': 1688.2989798788763, 'visited_streets': {3: [59, 75, 90, 89, 51, 32, 31], 2: [34, 12, 94, 84, 89, 70, 40], 1: [29, 91]}}\n",
      "Worker 7 : {'driving_index': 5.46353356495816, 'total_distance': 2054.642656811898, 'visited_streets': {3: [99, 50, 10, 55], 2: [50, 5, 99, 92, 96], 1: [76, 38, 49, 71, 66, 8]}}\n",
      "Worker 8 : {'driving_index': 2.9939635440275496, 'total_distance': 1118.5413527435244, 'visited_streets': {3: [83, 39, 45, 17, 65, 61]}}\n",
      "Worker 9 : {'driving_index': 5.04955932214816, 'total_distance': 1614.5133342857157, 'visited_streets': {3: [15, 58, 88, 12, 72, 24, 46, 4]}}\n",
      "Worker 10 : {'driving_index': 3.367969164665649, 'total_distance': 849.3195818330234, 'visited_streets': {1: [30, 13, 37]}}\n",
      "Worker 11 : {'driving_index': 4.88877231505816, 'total_distance': 1967.0534618243385, 'visited_streets': {3: [41, 48, 16, 84, 27, 5, 28], 1: [90, 56, 47]}}\n",
      "Worker 12 : {'driving_index': 3.8927123614085497, 'total_distance': 1118.7880627171717, 'visited_streets': {2: [65, 25, 32, 47, 20], 1: [96, 84, 73, 4]}}\n",
      "Worker 13 : {'driving_index': 5.13568878566716, 'total_distance': 1755.931727391931, 'visited_streets': {3: [73, 13, 43, 52, 80, 37, 96, 19, 2], 1: [41, 36, 70, 5, 42, 97]}}\n",
      "Worker 15 : {'driving_index': 4.417662575667159, 'total_distance': 1463.806498799876, 'visited_streets': {2: [37, 55, 53, 31, 9, 81]}}\n",
      "Worker 17 : {'driving_index': 3.6870226011481595, 'total_distance': 1448.7751503127051, 'visited_streets': {}}\n",
      "Worker 18 : {'driving_index': 4.921739678577159, 'total_distance': 1548.5451896619375, 'visited_streets': {2: [82, 7, 41]}}\n",
      "Worker 3 : {'driving_index': 5.402088679053511, 'total_distance': 1650.8421789786914, 'visited_streets': {1: [77, 58, 28]}}\n",
      "Worker 4 : {'driving_index': 4.562354032572511, 'total_distance': 1621.4562466598913, 'visited_streets': {3: [26, 33, 35, 63, 69, 74, 29, 23], 2: [86, 15, 66, 54], 1: [34, 26, 23]}}\n",
      "Worker 19 : {'driving_index': 4.578078190053511, 'total_distance': 1177.3084851461203, 'visited_streets': {2: [44, 73, 85, 19], 1: [78, 16, 61]}}\n",
      "Worker 14 : {'driving_index': 4.0028840789229, 'total_distance': 780.0362785738561, 'visited_streets': {2: [43, 45, 83, 62], 1: [82, 64, 54, 46]}}\n",
      "Worker 16 : {'driving_index': 3.6515033655039004, 'total_distance': 886.4664683874498, 'visited_streets': {1: [50, 25]}}\n"
     ]
    },
    {
     "name": "stderr",
     "output_type": "stream",
     "text": [
      "\n"
     ]
    }
   ],
   "source": [
    "simulated_weeks = [] #List of weeks simulated [{streets_to_clean, generated_routes, distances_travel, workers_match, routes_match}, ...]\n",
    "#streets_to_clean = [0, 1, 1, 0, 1, 0, 1, 0, 0, 1, 0, 1, 1, 0, 1, 0, 1, 0, 1, 0] -> 1 when the street needs to be cleaned\n",
    "#generated_routes = [[1, 2, 4, 6, 8, 10, 12, 14, 16, 18], [0, 3, 5, 7, 9, 11, 13, 15, 17, 19]] -> list of routes (route are sequence of streets to clean)\n",
    "#distances_travel = [12.3, 15.2] -> distance to travel for each route of generated_routes\n",
    "#workers_match = [1, -1, 0, -1, -1] -> index of the route that the worker is matched with. -1 means that the worker is not matched with a route (they don't drive, stay at maintenance)\n",
    "#routes_match = [2, 0] -> index of workers matched with each route (reverse function of workers_match)\n",
    "\n",
    "\n",
    "for i in tqdm(range(NB_WEEKS_SIM), desc=\"Simulating weeks...\"):\n",
    "\n",
    "    week_info = {}\n",
    "\n",
    "    streets_to_clean = generate_streets_to_clean()\n",
    "    generated_routes, distances_travel = generate_routes(streets_to_clean, distances)\n",
    "    workers_match, routes_match = generate_match_workers(generated_routes)\n",
    "\n",
    "    week_info[\"streets_to_clean\"] = streets_to_clean\n",
    "    week_info[\"generated_routes\"] = generated_routes\n",
    "    week_info[\"distances_travel\"] = distances_travel\n",
    "    week_info[\"workers_match\"] = workers_match\n",
    "    week_info[\"routes_match\"] = routes_match\n",
    "\n",
    "    simulated_weeks.append(week_info)\n",
    "\n",
    "\n",
    "def retrieve_info(simulated_weeks):\n",
    "    \"\"\"\n",
    "    Calculate information about the simulation of each worker\n",
    "    \"\"\"\n",
    "    info = {}\n",
    "    sim_week = len(simulated_weeks)\n",
    "    for i in tqdm(range(sim_week), desc=\"Retrieving information...\"):\n",
    "        for w in range(WORKERS_NB):\n",
    "            route_of_worker = simulated_weeks[i][\"workers_match\"][w]\n",
    "            if route_of_worker != -1: #Not in maintenance\n",
    "                \n",
    "                #INFORMATION TO RETRIEVE\n",
    "                driving_index = GAMMA**(sim_week - i)\n",
    "                total_distance = simulated_weeks[i][\"distances_travel\"][route_of_worker]\n",
    "\n",
    "                if w not in info: #Initialize the info\n",
    "                    info[w] = {\"driving_index\": 0, \"total_distance\": 0, \"visited_streets\": {}}\n",
    "\n",
    "                info[w][\"driving_index\"] += driving_index\n",
    "                info[w][\"total_distance\"] += total_distance\n",
    "                if i >= sim_week - 3 : #If the week is in the last 3 weeks, store the visited streets\n",
    "                    info[w][\"visited_streets\"][sim_week - i] =  simulated_weeks[i][\"generated_routes\"][route_of_worker]\n",
    "\n",
    "    return info\n",
    "\n",
    "info = retrieve_info(simulated_weeks)\n",
    "print(\"\\n\\nINFO :\")\n",
    "for w in info:\n",
    "    print(f\"Worker {w} : {info[w]}\")"
   ]
  },
  {
   "cell_type": "markdown",
   "metadata": {},
   "source": [
    "# 4) Apply our trees for next week\n",
    "\n",
    "### Get next week's routes"
   ]
  },
  {
   "cell_type": "code",
   "execution_count": 29,
   "metadata": {},
   "outputs": [
    {
     "name": "stdout",
     "output_type": "stream",
     "text": [
      "Maintenance workers : 2\n",
      "\n",
      "Next week routes :\n",
      "\n",
      "[62, 37, 91, 68, 69, 82] (distance of 223.23)\n",
      "[44, 67, 14, 26] (distance of 98.71)\n",
      "[5, 49, 16] (distance of 66.49)\n",
      "[61, 85] (distance of 72.73)\n",
      "[71, 28, 12, 78, 0] (distance of 162.4)\n",
      "[20, 38, 70] (distance of 88.38)\n",
      "[51, 98, 31, 58] (distance of 130.97)\n",
      "[65, 79, 66] (distance of 134.17)\n",
      "[53, 9, 42] (distance of 99.9)\n",
      "[94, 41] (distance of 57.88)\n",
      "[24, 57] (distance of 43.5)\n",
      "[22, 59, 90] (distance of 79.73)\n",
      "[48, 39] (distance of 65.51)\n",
      "[56, 81, 45, 40, 46] (distance of 127.08)\n",
      "[89, 54, 6, 60] (distance of 186.17)\n",
      "[73, 35, 18, 27] (distance of 77.35)\n",
      "[15, 88] (distance of 36.61)\n",
      "[96, 30, 1] (distance of 80.0)\n"
     ]
    }
   ],
   "source": [
    "streets_to_clean = generate_streets_to_clean()\n",
    "generated_routes, distances_travel = generate_routes(streets_to_clean, distances)\n",
    "\n",
    "maintenance_number = WORKERS_NB - len(generated_routes)\n",
    "\n",
    "\n",
    "#Put the info in a list of dict [{streets_sequence, distance}] for each routes\n",
    "info_routes = {}\n",
    "for i, route in enumerate(generated_routes):\n",
    "    info_routes[i] = {\"streets_sequence\": route, \"distance\": distances_travel[i]}\n",
    "\n",
    "\n",
    "\n",
    "print(f\"Maintenance workers : {maintenance_number}\\n\")\n",
    "\n",
    "print(\"Next week routes :\\n\")\n",
    "for i, route in enumerate(generated_routes) : \n",
    "    print(f\"{route} (distance of {round(distances_travel[i],2)})\")"
   ]
  },
  {
   "cell_type": "markdown",
   "metadata": {},
   "source": [
    "### First tree : determine who drives"
   ]
  },
  {
   "cell_type": "code",
   "execution_count": 30,
   "metadata": {},
   "outputs": [],
   "source": [
    "def first_tree(info, maintenance_number, verbose = True):\n",
    "    \n",
    "    #FIRST BRANCH : Take the top 2*maintenance_number workers with the highest driving_index\n",
    "    info_driving_sort = dict(sorted(info.items(), key=lambda item: item[1][\"driving_index\"], reverse=True))\n",
    "    top_workers = list(info_driving_sort.keys())[:2*maintenance_number]\n",
    "    info_top_workers = {k: info[k] for k in top_workers}\n",
    "\n",
    "    #SECOND BRANCH : Take the top maintenance_number workers with the highest total_distance of the remaining workers\n",
    "    info_distance_sort = dict(sorted(info_top_workers.items(), key=lambda item: item[1][\"total_distance\"], reverse=True))\n",
    "    top_workers = list(info_distance_sort.keys())[:maintenance_number]\n",
    "    info_top_workers = {k: info[k] for k in top_workers}\n",
    "\n",
    "    #Create the driving worker dictionnary\n",
    "    driving_workers = { k: info[k] for k in info if k not in top_workers}\n",
    "\n",
    "    if verbose : \n",
    "        print(\"Selected workers for maintenance for next week :\")\n",
    "        for w in info_top_workers:\n",
    "            print(f\"Worker {w} : {info_top_workers[w]}\")\n",
    "\n",
    "        print(\"\\nSelected workers for driving for next week :\")\n",
    "        for w in driving_workers:\n",
    "            print(f\"Worker {w} : {driving_workers[w]}\")\n",
    "\n",
    "    return driving_workers"
   ]
  },
  {
   "cell_type": "markdown",
   "metadata": {},
   "source": [
    "### Second tree : one line tree where each node is test for a route assignment"
   ]
  },
  {
   "cell_type": "code",
   "execution_count": 31,
   "metadata": {},
   "outputs": [],
   "source": [
    "def second_tree(driving_workers, info_routes):\n",
    "\n",
    "    #Sort driving workers by distance (descending)\n",
    "    driving_workers_sort = dict(sorted(driving_workers.items(), key=lambda item: item[1][\"total_distance\"], reverse=True))\n",
    "\n",
    "\n",
    "    #Sort the info_routes to clean by distance (ascending)\n",
    "    info_routes_sort = dict(sorted(info_routes.items(), key=lambda item: item[1][\"distance\"], reverse=False))\n",
    "\n",
    "\n",
    "    assert len(info_routes_sort) == len(driving_workers_sort), \"The number of routes to clean and the number of driving workers should be the same\"\n",
    "\n",
    "    #Assign the routes to the driving workers\n",
    "    worker_match = [-1]*WORKERS_NB\n",
    "    for i, idx_driver in enumerate(driving_workers_sort):\n",
    "\n",
    "        for j, idx_route in enumerate(info_routes_sort):\n",
    "            visited_streets_last_3_weeks = itertools.chain.from_iterable(driving_workers_sort[idx_driver][\"visited_streets\"].values())\n",
    "            if not(  set(visited_streets_last_3_weeks) & set(info_routes_sort[idx_route][\"streets_sequence\"]) ) or j == len(info_routes_sort) - 1: #If the worker has not visited a streets of the route\n",
    "                assign_route = idx_route #Assign the route to the worker\n",
    "                break\n",
    "            \n",
    "        worker_match[idx_driver] = assign_route\n",
    "\n",
    "        #delete the route from the info_routes_sort\n",
    "        del info_routes_sort[assign_route]\n",
    "        \n",
    "\n",
    "    return worker_match\n"
   ]
  },
  {
   "cell_type": "markdown",
   "metadata": {},
   "source": [
    "### Run the two trees"
   ]
  },
  {
   "cell_type": "code",
   "execution_count": 32,
   "metadata": {},
   "outputs": [
    {
     "name": "stdout",
     "output_type": "stream",
     "text": [
      "#################### FIRST TREE ####################\n",
      "Selected workers for maintenance for next week :\n",
      "Worker 7 : {'driving_index': 5.46353356495816, 'total_distance': 2054.642656811898, 'visited_streets': {3: [99, 50, 10, 55], 2: [50, 5, 99, 92, 96], 1: [76, 38, 49, 71, 66, 8]}}\n",
      "Worker 1 : {'driving_index': 6.4771297856671595, 'total_distance': 1831.2618277594127, 'visited_streets': {3: [18, 44, 81, 47, 7, 3], 2: [74, 39, 57, 98, 17, 21], 1: [83, 15, 75, 14]}}\n",
      "\n",
      "Selected workers for driving for next week :\n",
      "Worker 0 : {'driving_index': 5.23294131505816, 'total_distance': 1546.8764676050564, 'visited_streets': {3: [79, 92, 94, 67, 97, 36], 2: [36, 13, 56, 69, 88, 10, 28], 1: [55, 53, 31, 9]}}\n",
      "Worker 2 : {'driving_index': 5.55810391001755, 'total_distance': 1509.375544132276, 'visited_streets': {2: [30, 68, 49, 91], 1: [43, 81]}}\n",
      "Worker 5 : {'driving_index': 5.44422418759855, 'total_distance': 1536.1364953336622, 'visited_streets': {3: [98, 40, 6, 56, 57, 68, 49, 62], 2: [97, 58, 72, 46, 1, 90], 1: [68, 39, 86]}}\n",
      "Worker 6 : {'driving_index': 5.70159958183426, 'total_distance': 1688.2989798788763, 'visited_streets': {3: [59, 75, 90, 89, 51, 32, 31], 2: [34, 12, 94, 84, 89, 70, 40], 1: [29, 91]}}\n",
      "Worker 8 : {'driving_index': 2.9939635440275496, 'total_distance': 1118.5413527435244, 'visited_streets': {3: [83, 39, 45, 17, 65, 61]}}\n",
      "Worker 9 : {'driving_index': 5.04955932214816, 'total_distance': 1614.5133342857157, 'visited_streets': {3: [15, 58, 88, 12, 72, 24, 46, 4]}}\n",
      "Worker 10 : {'driving_index': 3.367969164665649, 'total_distance': 849.3195818330234, 'visited_streets': {1: [30, 13, 37]}}\n",
      "Worker 11 : {'driving_index': 4.88877231505816, 'total_distance': 1967.0534618243385, 'visited_streets': {3: [41, 48, 16, 84, 27, 5, 28], 1: [90, 56, 47]}}\n",
      "Worker 12 : {'driving_index': 3.8927123614085497, 'total_distance': 1118.7880627171717, 'visited_streets': {2: [65, 25, 32, 47, 20], 1: [96, 84, 73, 4]}}\n",
      "Worker 13 : {'driving_index': 5.13568878566716, 'total_distance': 1755.931727391931, 'visited_streets': {3: [73, 13, 43, 52, 80, 37, 96, 19, 2], 1: [41, 36, 70, 5, 42, 97]}}\n",
      "Worker 15 : {'driving_index': 4.417662575667159, 'total_distance': 1463.806498799876, 'visited_streets': {2: [37, 55, 53, 31, 9, 81]}}\n",
      "Worker 17 : {'driving_index': 3.6870226011481595, 'total_distance': 1448.7751503127051, 'visited_streets': {}}\n",
      "Worker 18 : {'driving_index': 4.921739678577159, 'total_distance': 1548.5451896619375, 'visited_streets': {2: [82, 7, 41]}}\n",
      "Worker 3 : {'driving_index': 5.402088679053511, 'total_distance': 1650.8421789786914, 'visited_streets': {1: [77, 58, 28]}}\n",
      "Worker 4 : {'driving_index': 4.562354032572511, 'total_distance': 1621.4562466598913, 'visited_streets': {3: [26, 33, 35, 63, 69, 74, 29, 23], 2: [86, 15, 66, 54], 1: [34, 26, 23]}}\n",
      "Worker 19 : {'driving_index': 4.578078190053511, 'total_distance': 1177.3084851461203, 'visited_streets': {2: [44, 73, 85, 19], 1: [78, 16, 61]}}\n",
      "Worker 14 : {'driving_index': 4.0028840789229, 'total_distance': 780.0362785738561, 'visited_streets': {2: [43, 45, 83, 62], 1: [82, 64, 54, 46]}}\n",
      "Worker 16 : {'driving_index': 3.6515033655039004, 'total_distance': 886.4664683874498, 'visited_streets': {1: [50, 25]}}\n",
      "\n",
      "\n",
      "#################### SECOND TREE ####################\n",
      "Worker match :  [11, -1, 1, 9, 2, 5, 12, -1, 4, 3, 14, 16, 6, 10, 0, 17, 7, 8, 15, 13]\n"
     ]
    }
   ],
   "source": [
    "print(\"#\"*20 + \" FIRST TREE \" + \"#\"*20)\n",
    "driving_workers = first_tree(info, maintenance_number)\n",
    "\n",
    "print(\"\\n\\n\" + \"#\"*20 + \" SECOND TREE \" + \"#\"*20)\n",
    "worker_match = second_tree(driving_workers, info_routes)\n",
    "print(\"Worker match : \", worker_match)"
   ]
  },
  {
   "cell_type": "markdown",
   "metadata": {},
   "source": [
    "# 5) Loop on several weeks to check the performance of the our model\n",
    "\n",
    "Now that we have a proof of concept, let's try to apply our model on several weeks after"
   ]
  },
  {
   "cell_type": "code",
   "execution_count": 33,
   "metadata": {},
   "outputs": [],
   "source": [
    "def run_one_week(info, distances) :\n",
    "\n",
    "    #Generate the new routes for the week\n",
    "    streets_to_clean = generate_streets_to_clean()\n",
    "    generated_routes, distances_travel = generate_routes(streets_to_clean, distances)\n",
    "\n",
    "    maintenance_number = WORKERS_NB - len(generated_routes)\n",
    "\n",
    "\n",
    "    #Put the info in a list of dict [{streets_sequence, distance}] for each routes\n",
    "    info_routes = {}\n",
    "    for i, route in enumerate(generated_routes):\n",
    "        info_routes[i] = {\"streets_sequence\": route, \"distance\": distances_travel[i]}\n",
    "\n",
    "    #First tree\n",
    "    driving_workers = first_tree(info, maintenance_number, verbose=False)\n",
    "\n",
    "    #Second tree\n",
    "    worker_match = second_tree(driving_workers, info_routes)\n",
    "\n",
    "    #Update the info\n",
    "    for w in info:\n",
    "        info[w][\"driving_index\"] *= GAMMA\n",
    "        info[w][\"visited_streets\"] = {k + 1 : v for k,v in info[w][\"visited_streets\"].items() if k < 3}\n",
    "\n",
    "        if w in driving_workers:\n",
    "            route_assigned = worker_match[w]\n",
    "            info[w][\"driving_index\"] += GAMMA\n",
    "            info[w][\"total_distance\"] += distances_travel[route_assigned]\n",
    "            info[w][\"visited_streets\"][1] = generated_routes[route_assigned]\n",
    "\n",
    "\n",
    "\n",
    "    return info"
   ]
  },
  {
   "cell_type": "code",
   "execution_count": 34,
   "metadata": {},
   "outputs": [
    {
     "name": "stderr",
     "output_type": "stream",
     "text": [
      "Simulating weeks...: 100%|██████████| 15/15 [00:00<00:00, 901.33it/s]\n",
      "Retrieving information...: 100%|██████████| 15/15 [00:00<00:00, 133011.75it/s]\n",
      "Running simulation...:   0%|          | 0/15 [00:00<?, ?it/s]"
     ]
    },
    {
     "name": "stderr",
     "output_type": "stream",
     "text": [
      "Running simulation...: 100%|██████████| 15/15 [00:00<00:00, 699.80it/s]"
     ]
    },
    {
     "name": "stdout",
     "output_type": "stream",
     "text": [
      "\n",
      "\n",
      "INFO :\n",
      "Worker 0 : {'driving_index': 7.220467028342674, 'total_distance': 2946.189921321588, 'visited_streets': {3: [73, 45, 5, 11, 63], 2: [79, 64, 30], 1: [40, 99]}}\n",
      "Worker 1 : {'driving_index': 6.67937920681946, 'total_distance': 2972.4997188271113, 'visited_streets': {3: [94, 77, 8, 38, 60, 86, 61], 1: [58, 98, 28]}}\n",
      "Worker 2 : {'driving_index': 6.837123543419054, 'total_distance': 2967.6088881671812, 'visited_streets': {2: [95, 22, 92, 17], 1: [10, 53]}}\n",
      "Worker 3 : {'driving_index': 6.767808988174838, 'total_distance': 2972.642250265491, 'visited_streets': {2: [36, 67, 56, 47], 1: [72, 60]}}\n",
      "Worker 4 : {'driving_index': 6.505287821331049, 'total_distance': 3000.7336351225745, 'visited_streets': {2: [99, 89, 16], 1: [68, 36, 69]}}\n",
      "Worker 5 : {'driving_index': 6.424517439746557, 'total_distance': 3011.0133425081412, 'visited_streets': {2: [34, 2, 32, 23], 1: [39, 6, 80, 44, 16]}}\n",
      "Worker 6 : {'driving_index': 6.659450905730395, 'total_distance': 2967.054822729954, 'visited_streets': {3: [66, 43, 2, 40, 26, 13], 1: [19, 97]}}\n",
      "Worker 7 : {'driving_index': 6.36566989887811, 'total_distance': 2971.7348367861114, 'visited_streets': {2: [76, 54, 15, 53, 73], 1: [18, 13]}}\n",
      "Worker 8 : {'driving_index': 6.238099465358119, 'total_distance': 2973.8818384690812, 'visited_streets': {3: [10, 12, 52, 7, 24], 1: [17, 94, 87]}}\n",
      "Worker 9 : {'driving_index': 6.318400159313169, 'total_distance': 3005.738250364065, 'visited_streets': {2: [5, 46, 60, 90], 1: [48, 30, 86]}}\n",
      "Worker 10 : {'driving_index': 6.871793412934765, 'total_distance': 2929.108468756195, 'visited_streets': {3: [36, 90, 58, 27, 41], 2: [85, 82], 1: [29, 78]}}\n",
      "Worker 11 : {'driving_index': 6.482336537544936, 'total_distance': 3002.0824113910307, 'visited_streets': {2: [68, 84, 70], 1: [20, 7, 2, 49]}}\n",
      "Worker 12 : {'driving_index': 6.212899068872808, 'total_distance': 2991.4016770646613, 'visited_streets': {3: [96, 3, 79, 55, 34, 65, 28, 49], 1: [52, 1, 92]}}\n",
      "Worker 13 : {'driving_index': 6.418558068872808, 'total_distance': 3000.8237262289513, 'visited_streets': {2: [11, 13, 93], 1: [62, 38, 21, 12]}}\n",
      "Worker 14 : {'driving_index': 7.1738271834645, 'total_distance': 2914.928057210565, 'visited_streets': {3: [25, 32, 81, 85, 83, 47, 91], 2: [51, 40, 58], 1: [75]}}\n",
      "Worker 16 : {'driving_index': 7.213806078901824, 'total_distance': 2940.2839860077065, 'visited_streets': {3: [4, 21, 37, 51, 80, 78, 75], 2: [9, 45, 96], 1: [54, 84]}}\n",
      "Worker 17 : {'driving_index': 6.88949385720802, 'total_distance': 2981.696754772925, 'visited_streets': {2: [72, 97, 18], 1: [3, 82, 63, 0]}}\n",
      "Worker 18 : {'driving_index': 6.491198323950396, 'total_distance': 2917.4409390741466, 'visited_streets': {2: [50, 98, 74, 71], 1: [33]}}\n",
      "Worker 19 : {'driving_index': 6.924918363999537, 'total_distance': 2953.285797884898, 'visited_streets': {3: [99, 35, 95, 97, 23, 72, 33], 2: [91, 21], 1: [43, 70]}}\n",
      "Worker 15 : {'driving_index': 6.588676954789587, 'total_distance': 3002.4342342629084, 'visited_streets': {3: [84, 22, 44, 29, 18], 1: [66, 37, 34]}}\n"
     ]
    },
    {
     "name": "stderr",
     "output_type": "stream",
     "text": [
      "\n"
     ]
    }
   ],
   "source": [
    "#########################################\n",
    "######### SOME PLOT VARIABLES ###########\n",
    "#########################################\n",
    "total_distance_evolution = [ [0] for w in info ]\n",
    "street_0 = [] #Track who visited street 0\n",
    "\n",
    "\n",
    "\n",
    "#########################################\n",
    "########## CREATE THE CITY MAP ########## \n",
    "#########################################\n",
    "street_map, distances = generate_streets()\n",
    "\n",
    "\n",
    "\n",
    "#########################################\n",
    "###### SIMULATE NB_WEEKS_SIM WEEKS ###### \n",
    "#########################################\n",
    "simulated_weeks = []\n",
    "for i in tqdm(range(NB_WEEKS_SIM), desc=\"Simulating weeks...\"):\n",
    "\n",
    "    week_info = {}\n",
    "\n",
    "    streets_to_clean = generate_streets_to_clean()\n",
    "    generated_routes, distances_travel = generate_routes(streets_to_clean, distances)\n",
    "    workers_match, routes_match = generate_match_workers(generated_routes)\n",
    "\n",
    "    week_info[\"streets_to_clean\"] = streets_to_clean\n",
    "    week_info[\"generated_routes\"] = generated_routes\n",
    "    week_info[\"distances_travel\"] = distances_travel\n",
    "    week_info[\"workers_match\"] = workers_match\n",
    "    week_info[\"routes_match\"] = routes_match\n",
    "\n",
    "    simulated_weeks.append(week_info)\n",
    "\n",
    "    #Update some plot variables\n",
    "    zero_has_been_visited = False\n",
    "    for i, w in enumerate(workers_match):\n",
    "        #Update the total distance evolution\n",
    "        total_dist = total_distance_evolution[i][-1]\n",
    "        if w != -1:\n",
    "            total_dist += week_info[\"distances_travel\"][week_info[\"workers_match\"][i]]\n",
    "        total_distance_evolution[i].append(total_dist)\n",
    "\n",
    "        #Update the street 0\n",
    "        if w != -1 and 0 in week_info[\"generated_routes\"][week_info[\"workers_match\"][i]]:\n",
    "            street_0.append(i)\n",
    "            zero_has_been_visited = True\n",
    "    if not zero_has_been_visited:\n",
    "        street_0.append(-1)\n",
    "\n",
    "\n",
    "info = retrieve_info(simulated_weeks)\n",
    "\n",
    "\n",
    "\n",
    "#########################################\n",
    "######### RUN THE SIMULATION ############\n",
    "#########################################\n",
    "for i in tqdm(range(NB_WEEKS_AFTER), desc=\"Running simulation...\"):\n",
    "    info = run_one_week(info, distances)\n",
    "\n",
    "    #Update some plot variables\n",
    "    zero_has_been_visited = False\n",
    "    for w in info:\n",
    "        #Update the total distance evolution\n",
    "        total_distance_evolution[w].append(info[w][\"total_distance\"])\n",
    "\n",
    "        #Update the street 0\n",
    "        if 1 in info[w][\"visited_streets\"] and 0 in info[w][\"visited_streets\"][1] and not zero_has_been_visited :\n",
    "            street_0.append(w)\n",
    "            zero_has_been_visited = True\n",
    "    if not zero_has_been_visited:\n",
    "        street_0.append(-1)\n",
    "\n",
    "\n",
    "print(\"\\n\\nINFO :\")\n",
    "for w in info:\n",
    "    print(f\"Worker {w} : {info[w]}\")"
   ]
  },
  {
   "cell_type": "markdown",
   "metadata": {},
   "source": [
    "### Some plots"
   ]
  },
  {
   "cell_type": "code",
   "execution_count": 35,
   "metadata": {},
   "outputs": [
    {
     "data": {
      "application/vnd.plotly.v1+json": {
       "config": {
        "plotlyServerURL": "https://plot.ly"
       },
       "data": [
        {
         "mode": "lines",
         "name": "Worker 0",
         "type": "scatter",
         "x": [
          0,
          1,
          2,
          3,
          4,
          5,
          6,
          7,
          8,
          9,
          10,
          11,
          12,
          13,
          14,
          15,
          16,
          17,
          18,
          19,
          20,
          21,
          22,
          23,
          24,
          25,
          26,
          27,
          28,
          29
         ],
         "y": [
          0,
          72.18093108812286,
          256.2554504152563,
          256.2554504152563,
          467.4373661492735,
          642.3388569291142,
          770.1403469852041,
          965.0637282028829,
          965.0637282028829,
          1104.9767529288988,
          1104.9767529288988,
          1211.9981032262317,
          1360.9613107220941,
          1458.148324264622,
          1672.4159686303249,
          1758.6527632751752,
          1832.4418504650466,
          1832.4418504650466,
          1882.3360677128453,
          1930.3655090291063,
          1942.1992507351401,
          2075.33626165509,
          2075.33626165509,
          2253.929694347914,
          2512.620826034223,
          2512.620826034223,
          2642.6991302698207,
          2642.6991302698207,
          2842.2774888671943,
          2907.226355875094,
          2946.189921321588
         ]
        },
        {
         "mode": "lines",
         "name": "Worker 1",
         "type": "scatter",
         "x": [
          0,
          1,
          2,
          3,
          4,
          5,
          6,
          7,
          8,
          9,
          10,
          11,
          12,
          13,
          14,
          15,
          16,
          17,
          18,
          19,
          20,
          21,
          22,
          23,
          24,
          25,
          26,
          27,
          28,
          29
         ],
         "y": [
          0,
          121.03483876034791,
          121.03483876034791,
          245.94108612722084,
          355.5132033658184,
          355.5132033658184,
          526.6923240727384,
          679.274984222042,
          716.054403526801,
          777.8200675719868,
          1028.341618157043,
          1028.341618157043,
          1028.341618157043,
          1137.32599839538,
          1268.321125389702,
          1354.6637050579297,
          1482.8496069939176,
          1697.6596436044983,
          1769.6265040039482,
          1769.6265040039482,
          1960.1391872737654,
          2060.45954844912,
          2199.534783858494,
          2334.320586649049,
          2334.320586649049,
          2538.8748107006463,
          2658.2081570660503,
          2658.2081570660503,
          2872.211240741436,
          2872.211240741436,
          2972.4997188271113
         ]
        },
        {
         "mode": "lines",
         "name": "Worker 2",
         "type": "scatter",
         "x": [
          0,
          1,
          2,
          3,
          4,
          5,
          6,
          7,
          8,
          9,
          10,
          11,
          12,
          13,
          14,
          15,
          16,
          17,
          18,
          19,
          20,
          21,
          22,
          23,
          24,
          25,
          26,
          27,
          28,
          29
         ],
         "y": [
          0,
          61.29824926440115,
          217.22604824659624,
          348.4613435154386,
          465.0262834328198,
          593.2460085966646,
          703.4536329656248,
          800.1059937939308,
          800.1059937939308,
          959.5721621134618,
          1182.0045888061143,
          1182.0045888061143,
          1182.0045888061143,
          1240.0245539620473,
          1367.6391189639662,
          1511.6397068624897,
          1602.0160343489754,
          1602.0160343489754,
          1727.8135218626198,
          1880.7578810375076,
          1966.9861830720843,
          2064.0555639068525,
          2178.887300350309,
          2351.091287892596,
          2351.091287892596,
          2553.3701806367285,
          2607.7162762184053,
          2746.152643064914,
          2746.152643064914,
          2879.8934698426488,
          2967.6088881671812
         ]
        },
        {
         "mode": "lines",
         "name": "Worker 3",
         "type": "scatter",
         "x": [
          0,
          1,
          2,
          3,
          4,
          5,
          6,
          7,
          8,
          9,
          10,
          11,
          12,
          13,
          14,
          15,
          16,
          17,
          18,
          19,
          20,
          21,
          22,
          23,
          24,
          25,
          26,
          27,
          28,
          29
         ],
         "y": [
          0,
          116.26607510540683,
          245.03840754318577,
          312.0143244611895,
          433.81541327934116,
          573.3819723720616,
          573.3819723720616,
          731.2680358713369,
          731.2680358713369,
          843.4908540392198,
          1016.632793143075,
          1195.7581981168157,
          1418.3765135763929,
          1587.3512000880185,
          1752.9447047863046,
          1859.9714905413966,
          1930.9386265166313,
          1930.9386265166313,
          1930.9386265166313,
          1974.7890737900889,
          1974.7890737900889,
          2061.645785306227,
          2183.6689284296467,
          2352.645317522172,
          2352.645317522172,
          2526.697120288177,
          2605.698172983758,
          2746.3099241928358,
          2746.3099241928358,
          2898.157922690239,
          2972.642250265491
         ]
        },
        {
         "mode": "lines",
         "name": "Worker 4",
         "type": "scatter",
         "x": [
          0,
          1,
          2,
          3,
          4,
          5,
          6,
          7,
          8,
          9,
          10,
          11,
          12,
          13,
          14,
          15,
          16,
          17,
          18,
          19,
          20,
          21,
          22,
          23,
          24,
          25,
          26,
          27,
          28,
          29
         ],
         "y": [
          0,
          133.4609693509073,
          133.4609693509073,
          209.06913474710453,
          313.90263544496156,
          488.72952658084336,
          609.6098418907624,
          609.6098418907624,
          609.6098418907624,
          609.6098418907624,
          764.0548789229592,
          835.5393368395781,
          835.5393368395781,
          835.5393368395781,
          835.5393368395781,
          835.5393368395781,
          1141.4887617130662,
          1383.9472329408634,
          1592.6280951045158,
          1784.6635690875878,
          1980.5198706898432,
          2044.3707188747314,
          2205.261772969754,
          2276.150344804846,
          2431.546032405942,
          2431.546032405942,
          2594.6554027608076,
          2781.7211742171316,
          2781.7211742171316,
          2867.393704193564,
          3000.7336351225745
         ]
        },
        {
         "mode": "lines",
         "name": "Worker 5",
         "type": "scatter",
         "x": [
          0,
          1,
          2,
          3,
          4,
          5,
          6,
          7,
          8,
          9,
          10,
          11,
          12,
          13,
          14,
          15,
          16,
          17,
          18,
          19,
          20,
          21,
          22,
          23,
          24,
          25,
          26,
          27,
          28,
          29
         ],
         "y": [
          0,
          0,
          157.7604338543157,
          342.7110889400765,
          371.4548089245159,
          371.4548089245159,
          561.6324834109919,
          719.9760469141015,
          820.472816671293,
          1082.92394643004,
          1247.6841510218437,
          1247.6841510218437,
          1423.4904588561926,
          1423.4904588561926,
          1423.4904588561926,
          1501.6447484098246,
          1595.3971355507051,
          1711.2918891168206,
          1780.7728718120532,
          1863.1415548177742,
          2012.4692946090713,
          2012.4692946090713,
          2283.200980725498,
          2283.200980725498,
          2425.998867255685,
          2425.998867255685,
          2604.0513546122997,
          2754.1739757913774,
          2754.1739757913774,
          2853.8700052078957,
          3011.0133425081412
         ]
        },
        {
         "mode": "lines",
         "name": "Worker 6",
         "type": "scatter",
         "x": [
          0,
          1,
          2,
          3,
          4,
          5,
          6,
          7,
          8,
          9,
          10,
          11,
          12,
          13,
          14,
          15,
          16,
          17,
          18,
          19,
          20,
          21,
          22,
          23,
          24,
          25,
          26,
          27,
          28,
          29
         ],
         "y": [
          0,
          192.2344301475532,
          420.041894801617,
          516.2418235472674,
          588.134793773515,
          775.2368220202645,
          887.6366351470656,
          1026.7739967894836,
          1123.4545311230313,
          1267.8077272756068,
          1444.2508423137342,
          1444.2508423137342,
          1444.2508423137342,
          1592.2727237878908,
          1687.3815198913185,
          1687.3815198913185,
          1769.8796743725438,
          1769.8796743725438,
          1820.368984359356,
          1881.003693117025,
          1935.734994308537,
          2093.835946453645,
          2181.8723451690926,
          2353.804865867918,
          2353.804865867918,
          2519.794642389941,
          2639.1779141309034,
          2718.0511198949703,
          2880.784408640339,
          2880.784408640339,
          2967.054822729954
         ]
        },
        {
         "mode": "lines",
         "name": "Worker 7",
         "type": "scatter",
         "x": [
          0,
          1,
          2,
          3,
          4,
          5,
          6,
          7,
          8,
          9,
          10,
          11,
          12,
          13,
          14,
          15,
          16,
          17,
          18,
          19,
          20,
          21,
          22,
          23,
          24,
          25,
          26,
          27,
          28,
          29
         ],
         "y": [
          0,
          96.05949273923997,
          250.47808984278382,
          401.3417135555998,
          565.8634861751608,
          678.6783559407612,
          731.1509509020208,
          897.7495853853758,
          897.7495853853758,
          962.3695964259114,
          962.3695964259114,
          1104.10535257315,
          1104.10535257315,
          1229.2277958582836,
          1400.07596921696,
          1538.3690994270728,
          1616.9867820385523,
          1616.9867820385523,
          1739.2377349708506,
          1874.500845399323,
          1990.2314339020973,
          2038.616849771954,
          2230.307342478666,
          2230.307342478666,
          2415.7676755555176,
          2415.7676755555176,
          2610.943395736233,
          2746.066709174879,
          2746.066709174879,
          2906.0214970474276,
          2971.7348367861114
         ]
        },
        {
         "mode": "lines",
         "name": "Worker 8",
         "type": "scatter",
         "x": [
          0,
          1,
          2,
          3,
          4,
          5,
          6,
          7,
          8,
          9,
          10,
          11,
          12,
          13,
          14,
          15,
          16,
          17,
          18,
          19,
          20,
          21,
          22,
          23,
          24,
          25,
          26,
          27,
          28,
          29
         ],
         "y": [
          0,
          72.6740536218778,
          72.6740536218778,
          72.6740536218778,
          115.75306542047245,
          260.41165102254,
          353.92349601608896,
          432.4385620672982,
          687.9396442648482,
          830.4085285192717,
          830.4085285192717,
          941.6418674608512,
          941.6418674608512,
          941.6418674608512,
          941.6418674608512,
          989.9177293814867,
          1169.9474209070875,
          1452.2053560114941,
          1615.101289979906,
          1796.719862579882,
          1949.9673439096507,
          2055.208286683289,
          2208.6838078563587,
          2208.6838078563587,
          2484.2255137207103,
          2484.2255137207103,
          2617.4037167544243,
          2712.635464088202,
          2902.6746229529203,
          2902.6746229529203,
          2973.8818384690812
         ]
        },
        {
         "mode": "lines",
         "name": "Worker 9",
         "type": "scatter",
         "x": [
          0,
          1,
          2,
          3,
          4,
          5,
          6,
          7,
          8,
          9,
          10,
          11,
          12,
          13,
          14,
          15,
          16,
          17,
          18,
          19,
          20,
          21,
          22,
          23,
          24,
          25,
          26,
          27,
          28,
          29
         ],
         "y": [
          0,
          56.72894127841643,
          249.3510378968358,
          299.277282274295,
          475.28632322040926,
          588.8192710721653,
          694.1717830299476,
          773.2238436865557,
          773.2238436865557,
          793.1209138819142,
          793.1209138819142,
          942.2332363784553,
          1110.345226844128,
          1252.7417567465295,
          1252.7417567465295,
          1252.7417567465295,
          1390.2638488377759,
          1606.3791891724147,
          1731.594024268311,
          1879.8787417888245,
          1988.2952507314733,
          2044.0908491854232,
          2203.912643981476,
          2203.912643981476,
          2392.5421643493673,
          2563.848488943187,
          2563.848488943187,
          2746.856337311112,
          2746.856337311112,
          2876.0020185493704,
          3005.738250364065
         ]
        },
        {
         "mode": "lines",
         "name": "Worker 10",
         "type": "scatter",
         "x": [
          0,
          1,
          2,
          3,
          4,
          5,
          6,
          7,
          8,
          9,
          10,
          11,
          12,
          13,
          14,
          15,
          16,
          17,
          18,
          19,
          20,
          21,
          22,
          23,
          24,
          25,
          26,
          27,
          28,
          29
         ],
         "y": [
          0,
          41.33946946807526,
          201.0839223639992,
          319.0935931656258,
          434.2147985756914,
          434.2147985756914,
          573.0906175434683,
          659.0323095910699,
          879.1628443662521,
          879.1628443662521,
          1012.5561477984874,
          1101.5929368672696,
          1204.6644690441447,
          1351.4954057632394,
          1351.4954057632394,
          1487.527163562991,
          1594.2679129884032,
          1724.0051174358568,
          1780.4986260995527,
          1780.4986260995527,
          1939.5325980090606,
          2092.145723709942,
          2184.661795739026,
          2327.487720153311,
          2327.487720153311,
          2589.018785872992,
          2632.422404098661,
          2632.422404098661,
          2844.435951749606,
          2910.9916559557846,
          2929.108468756195
         ]
        },
        {
         "mode": "lines",
         "name": "Worker 11",
         "type": "scatter",
         "x": [
          0,
          1,
          2,
          3,
          4,
          5,
          6,
          7,
          8,
          9,
          10,
          11,
          12,
          13,
          14,
          15,
          16,
          17,
          18,
          19,
          20,
          21,
          22,
          23,
          24,
          25,
          26,
          27,
          28,
          29
         ],
         "y": [
          0,
          58.710708175776645,
          222.00757022543695,
          252.957517896933,
          302.42204773294736,
          422.4650596511434,
          591.2795630878824,
          682.5526400917415,
          890.4722680801168,
          1076.6828798600588,
          1076.6828798600588,
          1291.782506831964,
          1394.2098014270437,
          1394.2098014270437,
          1534.8014929737756,
          1672.255055782843,
          1748.0258090845139,
          1748.0258090845139,
          1814.3241668131866,
          1896.5277658683456,
          1933.2619395143668,
          2097.969447367429,
          2097.969447367429,
          2271.7379071502237,
          2438.7884611686595,
          2438.7884611686595,
          2611.156728683275,
          2747.962323402061,
          2747.962323402061,
          2850.2025846997067,
          3002.0824113910307
         ]
        },
        {
         "mode": "lines",
         "name": "Worker 12",
         "type": "scatter",
         "x": [
          0,
          1,
          2,
          3,
          4,
          5,
          6,
          7,
          8,
          9,
          10,
          11,
          12,
          13,
          14,
          15,
          16,
          17,
          18,
          19,
          20,
          21,
          22,
          23,
          24,
          25,
          26,
          27,
          28,
          29
         ],
         "y": [
          0,
          125.38246163253947,
          125.38246163253947,
          226.0906395525102,
          402.06810881245076,
          428.52547942545084,
          510.26714434136994,
          689.6347590074173,
          835.1147372748457,
          910.859833901679,
          910.859833901679,
          1109.069914783048,
          1375.6541872895125,
          1442.185523370089,
          1442.185523370089,
          1532.677770022687,
          1620.0438244270915,
          1620.0438244270915,
          1725.4253711167585,
          1903.7577115169943,
          1919.4431889640314,
          2095.3379399359055,
          2095.3379399359055,
          2272.497345778574,
          2409.769471877243,
          2563.497943114933,
          2614.3437813372125,
          2614.3437813372125,
          2879.369684090199,
          2879.369684090199,
          2991.4016770646613
         ]
        },
        {
         "mode": "lines",
         "name": "Worker 13",
         "type": "scatter",
         "x": [
          0,
          1,
          2,
          3,
          4,
          5,
          6,
          7,
          8,
          9,
          10,
          11,
          12,
          13,
          14,
          15,
          16,
          17,
          18,
          19,
          20,
          21,
          22,
          23,
          24,
          25,
          26,
          27,
          28,
          29
         ],
         "y": [
          0,
          75.41513536418265,
          75.41513536418265,
          264.2591970430119,
          294.09281063970076,
          383.23728030573227,
          595.6994442192104,
          669.5584646759438,
          836.2730407874625,
          948.7438891012296,
          948.7438891012296,
          1127.2407804224329,
          1316.8151133220986,
          1425.316087187882,
          1425.316087187882,
          1585.088807851381,
          1663.1379997785825,
          1663.1379997785825,
          1743.2221675256612,
          1846.1911042385811,
          1974.9884832696634,
          2071.6197821395576,
          2071.6197821395576,
          2286.414463282014,
          2413.7699736619043,
          2413.7699736619043,
          2605.597633706824,
          2754.6451968663737,
          2754.6451968663737,
          2845.800029959848,
          3000.8237262289513
         ]
        },
        {
         "mode": "lines",
         "name": "Worker 14",
         "type": "scatter",
         "x": [
          0,
          1,
          2,
          3,
          4,
          5,
          6,
          7,
          8,
          9,
          10,
          11,
          12,
          13,
          14,
          15,
          16,
          17,
          18,
          19,
          20,
          21,
          22,
          23,
          24,
          25,
          26,
          27,
          28,
          29
         ],
         "y": [
          0,
          0,
          0,
          0,
          175.8186510973016,
          375.6817670089747,
          375.6817670089747,
          375.6817670089747,
          585.0076244883337,
          815.7751041497685,
          957.201040111824,
          1088.9787165883652,
          1088.9787165883652,
          1168.693406558559,
          1342.9556318870725,
          1555.560932540715,
          1648.2507950138802,
          1648.2507950138802,
          1735.5138472399676,
          1873.2904353465458,
          1990.639502469195,
          2017.0892643938826,
          2211.967210566424,
          2211.967210566424,
          2411.665965687289,
          2411.665965687289,
          2666.5933087981894,
          2666.5933087981894,
          2854.403038897949,
          2914.928057210565,
          2914.928057210565
         ]
        },
        {
         "mode": "lines",
         "name": "Worker 15",
         "type": "scatter",
         "x": [
          0,
          1,
          2,
          3,
          4,
          5,
          6,
          7,
          8,
          9,
          10,
          11,
          12,
          13,
          14,
          15,
          16,
          17,
          18,
          19,
          20,
          21,
          22,
          23,
          24,
          25,
          26,
          27,
          28,
          29
         ],
         "y": [
          0,
          0,
          0,
          130.13722609268564,
          193.578263913853,
          193.578263913853,
          277.15746774302556,
          403.10316240044284,
          403.10316240044284,
          453.2323905917914,
          683.9698831118085,
          862.3417369092426,
          1058.022460624795,
          1058.022460624795,
          1223.5209746158314,
          1334.170288687868,
          1496.332890222559,
          1663.6034040582965,
          1742.283956446494,
          1863.6226667322132,
          2033.107151866509,
          2033.107151866509,
          2244.4256458743885,
          2301.9874866964883,
          2301.9874866964883,
          2514.1044917995628,
          2637.860319262882,
          2681.7571589200456,
          2871.768167764207,
          2871.768167764207,
          3002.4342342629084
         ]
        },
        {
         "mode": "lines",
         "name": "Worker 16",
         "type": "scatter",
         "x": [
          0,
          1,
          2,
          3,
          4,
          5,
          6,
          7,
          8,
          9,
          10,
          11,
          12,
          13,
          14,
          15,
          16,
          17,
          18,
          19,
          20,
          21,
          22,
          23,
          24,
          25,
          26,
          27,
          28,
          29
         ],
         "y": [
          0,
          153.34985264636788,
          356.9985527099714,
          406.63544681366926,
          406.63544681366926,
          531.3589480033294,
          531.3589480033294,
          668.2250133339483,
          668.2250133339483,
          753.6439515260288,
          863.6225789417822,
          977.638647980448,
          977.638647980448,
          1111.7366847966464,
          1394.5070115577432,
          1394.5070115577432,
          1518.4517111570517,
          1675.7472683970839,
          1749.7602888640292,
          1816.5248853266896,
          1958.830860072578,
          2050.422387694549,
          2050.422387694549,
          2359.0841144082374,
          2359.0841144082374,
          2546.5427506575547,
          2612.609991695084,
          2712.884341375477,
          2838.6079458052477,
          2919.7539570528975,
          2940.2839860077065
         ]
        },
        {
         "mode": "lines",
         "name": "Worker 17",
         "type": "scatter",
         "x": [
          0,
          1,
          2,
          3,
          4,
          5,
          6,
          7,
          8,
          9,
          10,
          11,
          12,
          13,
          14,
          15,
          16,
          17,
          18,
          19,
          20,
          21,
          22,
          23,
          24,
          25,
          26,
          27,
          28,
          29
         ],
         "y": [
          0,
          81.17176286468548,
          81.17176286468548,
          234.22524007491035,
          340.8323037207555,
          340.8323037207555,
          340.8323037207555,
          405.67213794392353,
          557.8948127727992,
          651.7469792633854,
          651.7469792633854,
          779.6697530835738,
          1070.3337374878283,
          1191.723721634781,
          1289.6888075662791,
          1484.0937704133653,
          1640.4745157629716,
          1640.4745157629716,
          1739.6615495187089,
          1869.2431987253292,
          2001.3801027543773,
          2001.3801027543773,
          2168.6655664834934,
          2333.2892283561087,
          2333.2892283561087,
          2563.805376781737,
          2607.7434492456055,
          2748.5808266974864,
          2748.5808266974864,
          2850.513343924605,
          2981.696754772925
         ]
        },
        {
         "mode": "lines",
         "name": "Worker 18",
         "type": "scatter",
         "x": [
          0,
          1,
          2,
          3,
          4,
          5,
          6,
          7,
          8,
          9,
          10,
          11,
          12,
          13,
          14,
          15,
          16,
          17,
          18,
          19,
          20,
          21,
          22,
          23,
          24,
          25,
          26,
          27,
          28,
          29
         ],
         "y": [
          0,
          147.70255962465137,
          147.70255962465137,
          278.07648974738305,
          371.3662289177844,
          491.52866815727816,
          551.2625417545311,
          682.283276793907,
          750.2317904403793,
          818.533484233531,
          875.0863532992186,
          1042.5611409665512,
          1042.5611409665512,
          1211.617826329918,
          1330.5243322328624,
          1494.6275650111215,
          1594.4270695817931,
          1748.362147140194,
          1748.362147140194,
          1870.506542028638,
          1988.932594393207,
          2040.3895421296174,
          2202.6321497096665,
          2202.6321497096665,
          2462.434394611554,
          2462.434394611554,
          2612.334705779354,
          2746.7259949534664,
          2746.7259949534664,
          2917.4409390741466,
          2917.4409390741466
         ]
        },
        {
         "mode": "lines",
         "name": "Worker 19",
         "type": "scatter",
         "x": [
          0,
          1,
          2,
          3,
          4,
          5,
          6,
          7,
          8,
          9,
          10,
          11,
          12,
          13,
          14,
          15,
          16,
          17,
          18,
          19,
          20,
          21,
          22,
          23,
          24,
          25,
          26,
          27,
          28,
          29
         ],
         "y": [
          0,
          15.618957014690011,
          15.618957014690011,
          119.20884544692795,
          254.70027967989358,
          423.9467123156605,
          536.1724719992529,
          604.0388141293796,
          604.0388141293796,
          714.7396647964312,
          879.8790881614198,
          879.8790881614198,
          879.8790881614198,
          1106.0583161357542,
          1106.0583161357542,
          1209.9128451253266,
          1385.9563228849838,
          1571.1679686158543,
          1738.4540298121058,
          1885.2094879270046,
          1960.2826840181478,
          2060.446698390304,
          2200.892885425942,
          2288.495211786791,
          2288.495211786791,
          2521.2019557358694,
          2629.524132375807,
          2629.524132375807,
          2859.7657830711637,
          2907.5405695390527,
          2953.285797884898
         ]
        }
       ],
       "layout": {
        "shapes": [
         {
          "line": {
           "color": "Red",
           "dash": "dash",
           "width": 2
          },
          "type": "line",
          "x0": 15,
          "x1": 15,
          "y0": 0,
          "y1": 3011.0133425081412
         }
        ],
        "template": {
         "data": {
          "bar": [
           {
            "error_x": {
             "color": "#2a3f5f"
            },
            "error_y": {
             "color": "#2a3f5f"
            },
            "marker": {
             "line": {
              "color": "#E5ECF6",
              "width": 0.5
             },
             "pattern": {
              "fillmode": "overlay",
              "size": 10,
              "solidity": 0.2
             }
            },
            "type": "bar"
           }
          ],
          "barpolar": [
           {
            "marker": {
             "line": {
              "color": "#E5ECF6",
              "width": 0.5
             },
             "pattern": {
              "fillmode": "overlay",
              "size": 10,
              "solidity": 0.2
             }
            },
            "type": "barpolar"
           }
          ],
          "carpet": [
           {
            "aaxis": {
             "endlinecolor": "#2a3f5f",
             "gridcolor": "white",
             "linecolor": "white",
             "minorgridcolor": "white",
             "startlinecolor": "#2a3f5f"
            },
            "baxis": {
             "endlinecolor": "#2a3f5f",
             "gridcolor": "white",
             "linecolor": "white",
             "minorgridcolor": "white",
             "startlinecolor": "#2a3f5f"
            },
            "type": "carpet"
           }
          ],
          "choropleth": [
           {
            "colorbar": {
             "outlinewidth": 0,
             "ticks": ""
            },
            "type": "choropleth"
           }
          ],
          "contour": [
           {
            "colorbar": {
             "outlinewidth": 0,
             "ticks": ""
            },
            "colorscale": [
             [
              0,
              "#0d0887"
             ],
             [
              0.1111111111111111,
              "#46039f"
             ],
             [
              0.2222222222222222,
              "#7201a8"
             ],
             [
              0.3333333333333333,
              "#9c179e"
             ],
             [
              0.4444444444444444,
              "#bd3786"
             ],
             [
              0.5555555555555556,
              "#d8576b"
             ],
             [
              0.6666666666666666,
              "#ed7953"
             ],
             [
              0.7777777777777778,
              "#fb9f3a"
             ],
             [
              0.8888888888888888,
              "#fdca26"
             ],
             [
              1,
              "#f0f921"
             ]
            ],
            "type": "contour"
           }
          ],
          "contourcarpet": [
           {
            "colorbar": {
             "outlinewidth": 0,
             "ticks": ""
            },
            "type": "contourcarpet"
           }
          ],
          "heatmap": [
           {
            "colorbar": {
             "outlinewidth": 0,
             "ticks": ""
            },
            "colorscale": [
             [
              0,
              "#0d0887"
             ],
             [
              0.1111111111111111,
              "#46039f"
             ],
             [
              0.2222222222222222,
              "#7201a8"
             ],
             [
              0.3333333333333333,
              "#9c179e"
             ],
             [
              0.4444444444444444,
              "#bd3786"
             ],
             [
              0.5555555555555556,
              "#d8576b"
             ],
             [
              0.6666666666666666,
              "#ed7953"
             ],
             [
              0.7777777777777778,
              "#fb9f3a"
             ],
             [
              0.8888888888888888,
              "#fdca26"
             ],
             [
              1,
              "#f0f921"
             ]
            ],
            "type": "heatmap"
           }
          ],
          "heatmapgl": [
           {
            "colorbar": {
             "outlinewidth": 0,
             "ticks": ""
            },
            "colorscale": [
             [
              0,
              "#0d0887"
             ],
             [
              0.1111111111111111,
              "#46039f"
             ],
             [
              0.2222222222222222,
              "#7201a8"
             ],
             [
              0.3333333333333333,
              "#9c179e"
             ],
             [
              0.4444444444444444,
              "#bd3786"
             ],
             [
              0.5555555555555556,
              "#d8576b"
             ],
             [
              0.6666666666666666,
              "#ed7953"
             ],
             [
              0.7777777777777778,
              "#fb9f3a"
             ],
             [
              0.8888888888888888,
              "#fdca26"
             ],
             [
              1,
              "#f0f921"
             ]
            ],
            "type": "heatmapgl"
           }
          ],
          "histogram": [
           {
            "marker": {
             "pattern": {
              "fillmode": "overlay",
              "size": 10,
              "solidity": 0.2
             }
            },
            "type": "histogram"
           }
          ],
          "histogram2d": [
           {
            "colorbar": {
             "outlinewidth": 0,
             "ticks": ""
            },
            "colorscale": [
             [
              0,
              "#0d0887"
             ],
             [
              0.1111111111111111,
              "#46039f"
             ],
             [
              0.2222222222222222,
              "#7201a8"
             ],
             [
              0.3333333333333333,
              "#9c179e"
             ],
             [
              0.4444444444444444,
              "#bd3786"
             ],
             [
              0.5555555555555556,
              "#d8576b"
             ],
             [
              0.6666666666666666,
              "#ed7953"
             ],
             [
              0.7777777777777778,
              "#fb9f3a"
             ],
             [
              0.8888888888888888,
              "#fdca26"
             ],
             [
              1,
              "#f0f921"
             ]
            ],
            "type": "histogram2d"
           }
          ],
          "histogram2dcontour": [
           {
            "colorbar": {
             "outlinewidth": 0,
             "ticks": ""
            },
            "colorscale": [
             [
              0,
              "#0d0887"
             ],
             [
              0.1111111111111111,
              "#46039f"
             ],
             [
              0.2222222222222222,
              "#7201a8"
             ],
             [
              0.3333333333333333,
              "#9c179e"
             ],
             [
              0.4444444444444444,
              "#bd3786"
             ],
             [
              0.5555555555555556,
              "#d8576b"
             ],
             [
              0.6666666666666666,
              "#ed7953"
             ],
             [
              0.7777777777777778,
              "#fb9f3a"
             ],
             [
              0.8888888888888888,
              "#fdca26"
             ],
             [
              1,
              "#f0f921"
             ]
            ],
            "type": "histogram2dcontour"
           }
          ],
          "mesh3d": [
           {
            "colorbar": {
             "outlinewidth": 0,
             "ticks": ""
            },
            "type": "mesh3d"
           }
          ],
          "parcoords": [
           {
            "line": {
             "colorbar": {
              "outlinewidth": 0,
              "ticks": ""
             }
            },
            "type": "parcoords"
           }
          ],
          "pie": [
           {
            "automargin": true,
            "type": "pie"
           }
          ],
          "scatter": [
           {
            "fillpattern": {
             "fillmode": "overlay",
             "size": 10,
             "solidity": 0.2
            },
            "type": "scatter"
           }
          ],
          "scatter3d": [
           {
            "line": {
             "colorbar": {
              "outlinewidth": 0,
              "ticks": ""
             }
            },
            "marker": {
             "colorbar": {
              "outlinewidth": 0,
              "ticks": ""
             }
            },
            "type": "scatter3d"
           }
          ],
          "scattercarpet": [
           {
            "marker": {
             "colorbar": {
              "outlinewidth": 0,
              "ticks": ""
             }
            },
            "type": "scattercarpet"
           }
          ],
          "scattergeo": [
           {
            "marker": {
             "colorbar": {
              "outlinewidth": 0,
              "ticks": ""
             }
            },
            "type": "scattergeo"
           }
          ],
          "scattergl": [
           {
            "marker": {
             "colorbar": {
              "outlinewidth": 0,
              "ticks": ""
             }
            },
            "type": "scattergl"
           }
          ],
          "scattermapbox": [
           {
            "marker": {
             "colorbar": {
              "outlinewidth": 0,
              "ticks": ""
             }
            },
            "type": "scattermapbox"
           }
          ],
          "scatterpolar": [
           {
            "marker": {
             "colorbar": {
              "outlinewidth": 0,
              "ticks": ""
             }
            },
            "type": "scatterpolar"
           }
          ],
          "scatterpolargl": [
           {
            "marker": {
             "colorbar": {
              "outlinewidth": 0,
              "ticks": ""
             }
            },
            "type": "scatterpolargl"
           }
          ],
          "scatterternary": [
           {
            "marker": {
             "colorbar": {
              "outlinewidth": 0,
              "ticks": ""
             }
            },
            "type": "scatterternary"
           }
          ],
          "surface": [
           {
            "colorbar": {
             "outlinewidth": 0,
             "ticks": ""
            },
            "colorscale": [
             [
              0,
              "#0d0887"
             ],
             [
              0.1111111111111111,
              "#46039f"
             ],
             [
              0.2222222222222222,
              "#7201a8"
             ],
             [
              0.3333333333333333,
              "#9c179e"
             ],
             [
              0.4444444444444444,
              "#bd3786"
             ],
             [
              0.5555555555555556,
              "#d8576b"
             ],
             [
              0.6666666666666666,
              "#ed7953"
             ],
             [
              0.7777777777777778,
              "#fb9f3a"
             ],
             [
              0.8888888888888888,
              "#fdca26"
             ],
             [
              1,
              "#f0f921"
             ]
            ],
            "type": "surface"
           }
          ],
          "table": [
           {
            "cells": {
             "fill": {
              "color": "#EBF0F8"
             },
             "line": {
              "color": "white"
             }
            },
            "header": {
             "fill": {
              "color": "#C8D4E3"
             },
             "line": {
              "color": "white"
             }
            },
            "type": "table"
           }
          ]
         },
         "layout": {
          "annotationdefaults": {
           "arrowcolor": "#2a3f5f",
           "arrowhead": 0,
           "arrowwidth": 1
          },
          "autotypenumbers": "strict",
          "coloraxis": {
           "colorbar": {
            "outlinewidth": 0,
            "ticks": ""
           }
          },
          "colorscale": {
           "diverging": [
            [
             0,
             "#8e0152"
            ],
            [
             0.1,
             "#c51b7d"
            ],
            [
             0.2,
             "#de77ae"
            ],
            [
             0.3,
             "#f1b6da"
            ],
            [
             0.4,
             "#fde0ef"
            ],
            [
             0.5,
             "#f7f7f7"
            ],
            [
             0.6,
             "#e6f5d0"
            ],
            [
             0.7,
             "#b8e186"
            ],
            [
             0.8,
             "#7fbc41"
            ],
            [
             0.9,
             "#4d9221"
            ],
            [
             1,
             "#276419"
            ]
           ],
           "sequential": [
            [
             0,
             "#0d0887"
            ],
            [
             0.1111111111111111,
             "#46039f"
            ],
            [
             0.2222222222222222,
             "#7201a8"
            ],
            [
             0.3333333333333333,
             "#9c179e"
            ],
            [
             0.4444444444444444,
             "#bd3786"
            ],
            [
             0.5555555555555556,
             "#d8576b"
            ],
            [
             0.6666666666666666,
             "#ed7953"
            ],
            [
             0.7777777777777778,
             "#fb9f3a"
            ],
            [
             0.8888888888888888,
             "#fdca26"
            ],
            [
             1,
             "#f0f921"
            ]
           ],
           "sequentialminus": [
            [
             0,
             "#0d0887"
            ],
            [
             0.1111111111111111,
             "#46039f"
            ],
            [
             0.2222222222222222,
             "#7201a8"
            ],
            [
             0.3333333333333333,
             "#9c179e"
            ],
            [
             0.4444444444444444,
             "#bd3786"
            ],
            [
             0.5555555555555556,
             "#d8576b"
            ],
            [
             0.6666666666666666,
             "#ed7953"
            ],
            [
             0.7777777777777778,
             "#fb9f3a"
            ],
            [
             0.8888888888888888,
             "#fdca26"
            ],
            [
             1,
             "#f0f921"
            ]
           ]
          },
          "colorway": [
           "#636efa",
           "#EF553B",
           "#00cc96",
           "#ab63fa",
           "#FFA15A",
           "#19d3f3",
           "#FF6692",
           "#B6E880",
           "#FF97FF",
           "#FECB52"
          ],
          "font": {
           "color": "#2a3f5f"
          },
          "geo": {
           "bgcolor": "white",
           "lakecolor": "white",
           "landcolor": "#E5ECF6",
           "showlakes": true,
           "showland": true,
           "subunitcolor": "white"
          },
          "hoverlabel": {
           "align": "left"
          },
          "hovermode": "closest",
          "mapbox": {
           "style": "light"
          },
          "paper_bgcolor": "white",
          "plot_bgcolor": "#E5ECF6",
          "polar": {
           "angularaxis": {
            "gridcolor": "white",
            "linecolor": "white",
            "ticks": ""
           },
           "bgcolor": "#E5ECF6",
           "radialaxis": {
            "gridcolor": "white",
            "linecolor": "white",
            "ticks": ""
           }
          },
          "scene": {
           "xaxis": {
            "backgroundcolor": "#E5ECF6",
            "gridcolor": "white",
            "gridwidth": 2,
            "linecolor": "white",
            "showbackground": true,
            "ticks": "",
            "zerolinecolor": "white"
           },
           "yaxis": {
            "backgroundcolor": "#E5ECF6",
            "gridcolor": "white",
            "gridwidth": 2,
            "linecolor": "white",
            "showbackground": true,
            "ticks": "",
            "zerolinecolor": "white"
           },
           "zaxis": {
            "backgroundcolor": "#E5ECF6",
            "gridcolor": "white",
            "gridwidth": 2,
            "linecolor": "white",
            "showbackground": true,
            "ticks": "",
            "zerolinecolor": "white"
           }
          },
          "shapedefaults": {
           "line": {
            "color": "#2a3f5f"
           }
          },
          "ternary": {
           "aaxis": {
            "gridcolor": "white",
            "linecolor": "white",
            "ticks": ""
           },
           "baxis": {
            "gridcolor": "white",
            "linecolor": "white",
            "ticks": ""
           },
           "bgcolor": "#E5ECF6",
           "caxis": {
            "gridcolor": "white",
            "linecolor": "white",
            "ticks": ""
           }
          },
          "title": {
           "x": 0.05
          },
          "xaxis": {
           "automargin": true,
           "gridcolor": "white",
           "linecolor": "white",
           "ticks": "",
           "title": {
            "standoff": 15
           },
           "zerolinecolor": "white",
           "zerolinewidth": 2
          },
          "yaxis": {
           "automargin": true,
           "gridcolor": "white",
           "linecolor": "white",
           "ticks": "",
           "title": {
            "standoff": 15
           },
           "zerolinecolor": "white",
           "zerolinewidth": 2
          }
         }
        },
        "title": {
         "text": "Evolution of the total distance traveled by each worker"
        },
        "xaxis": {
         "title": {
          "text": "Weeks"
         }
        },
        "yaxis": {
         "title": {
          "text": "Total distance traveled"
         }
        }
       }
      }
     },
     "metadata": {},
     "output_type": "display_data"
    }
   ],
   "source": [
    "# Evolution of the total distance traveled by each worker\n",
    "fig = go.Figure()\n",
    "for i in range(WORKERS_NB):\n",
    "    #trace the line \n",
    "    fig.add_trace(go.Scatter(x=list(range(NB_WEEKS_SIM + NB_WEEKS_AFTER)), y=total_distance_evolution[i], mode='lines', name=f\"Worker {i}\"))\n",
    "\n",
    "#Add a horizontal line for x = NB_WEEKS_SIM\n",
    "fig.add_shape(type='line',\n",
    "              x0=NB_WEEKS_SIM, y0=0,\n",
    "              x1=NB_WEEKS_SIM, y1=max([max(distances) for distances in total_distance_evolution]),\n",
    "              line=dict(color='Red', width=2, dash='dash'))\n",
    "\n",
    "\n",
    "\n",
    "fig.update_layout(title='Evolution of the total distance traveled by each worker', xaxis_title='Weeks', yaxis_title='Total distance traveled')\n",
    "fig.show()\n"
   ]
  },
  {
   "cell_type": "code",
   "execution_count": 36,
   "metadata": {},
   "outputs": [
    {
     "name": "stdout",
     "output_type": "stream",
     "text": [
      "DURING THE SIMULATION, WHO VISITED STREET 0 ?\n",
      "// -> // -> 18 -> 11 -> 4 -> 6 -> // -> // -> 5 -> // -> 12 -> 12 -> // -> // -> //\n",
      "\n",
      "\n",
      "AFTER THE SIMULATION, WHO VISITED STREET 0 ?\n",
      "4 -> 4 -> // -> // -> // -> 6 -> 19 -> 13 -> // -> 3 -> 14 -> 4 -> // -> // -> 17\n"
     ]
    }
   ],
   "source": [
    "#### Who visited street 0 ?\n",
    "print(\"DURING THE SIMULATION, WHO VISITED STREET 0 ?\")\n",
    "string_print = \"\"\n",
    "for i, w in enumerate(street_0[:NB_WEEKS_SIM]):\n",
    "    if i != 0 :\n",
    "        string_print += \" -> \"\n",
    "    \n",
    "    if w != -1:\n",
    "        string_print += f\"{w}\"\n",
    "    else:\n",
    "        string_print += \"//\"\n",
    "\n",
    "print(string_print)\n",
    "\n",
    "print(\"\\n\\nAFTER THE SIMULATION, WHO VISITED STREET 0 ?\")\n",
    "string_print = \"\"\n",
    "for i, w in enumerate(street_0[NB_WEEKS_SIM:]):\n",
    "    if i != 0 :\n",
    "        string_print += \" -> \"\n",
    "    \n",
    "    if w != -1:\n",
    "        string_print += f\"{w}\"\n",
    "    else:\n",
    "        string_print += \"//\"\n",
    "print(string_print)\n"
   ]
  }
 ],
 "metadata": {
  "kernelspec": {
   "display_name": "ml",
   "language": "python",
   "name": "python3"
  },
  "language_info": {
   "codemirror_mode": {
    "name": "ipython",
    "version": 3
   },
   "file_extension": ".py",
   "mimetype": "text/x-python",
   "name": "python",
   "nbconvert_exporter": "python",
   "pygments_lexer": "ipython3",
   "version": "3.9.18"
  }
 },
 "nbformat": 4,
 "nbformat_minor": 2
}
